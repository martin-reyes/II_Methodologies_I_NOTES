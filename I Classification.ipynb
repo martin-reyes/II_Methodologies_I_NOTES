{
 "cells": [
  {
   "cell_type": "code",
   "execution_count": 87,
   "id": "da72a4bf",
   "metadata": {},
   "outputs": [],
   "source": [
    "import pandas as pd\n",
    "import seaborn as sns\n",
    "import matplotlib.pyplot as plt"
   ]
  },
  {
   "cell_type": "markdown",
   "id": "0eb08f5f",
   "metadata": {},
   "source": [
    "# Classification\n",
    "\n",
    "[sklearn](https://scikit-learn.org/stable/modules/classes.html)\n",
    "\n",
    "### Overview\n",
    "\n",
    "- models:\n",
    "    - Logistic Regression (`sklearn.linear_model.LogisticRegression`)\n",
    "    - Decision Tree (`sklearn.tree.DecisionTreeClassifier`)\n",
    "    - Naive Bayes (`sklearn.naive_bayes.BernoulliNB`)\n",
    "    - K-Nearest Neighbors (`sklearn.neighbors.KNeighborsClassifier`)\n",
    "    - Random Forest (`sklearn.ensemble.RandomForestClassifier`)\n",
    "    - Support Vector Machine (`sklearn.svm.SVC`)\n",
    "    - Stochastic Gradient Descent (`sklearn.linear_model.SGDClassifier`)\n",
    "    - AdaBoost (`sklearn.ensemble.AdaBoostClassifier`)\n",
    "    - Bagging (`sklearn.ensemble.BaggingClassifier`)\n",
    "    - Gradient Boosting (`sklearn.ensemble.GradientBoostingClassifier`)\n",
    "    "
   ]
  },
  {
   "cell_type": "markdown",
   "id": "1b360b16",
   "metadata": {},
   "source": [
    "### Acquisition"
   ]
  },
  {
   "cell_type": "markdown",
   "id": "0fed6cfe",
   "metadata": {},
   "source": [
    "### Prep\n",
    "\n",
    "Encode:\n",
    "- label encoding: ordinal categorical\n",
    "- one-hot encoding: nominal categorical\n",
    "    - `pd.get_dummies(categorical_series_or_df, drop_first=False)`\n",
    "    - `df = pd.concat([df, dummy_df], axis=1)`"
   ]
  },
  {
   "cell_type": "code",
   "execution_count": null,
   "id": "58d2f825",
   "metadata": {},
   "outputs": [],
   "source": [
    "from sklearn.model_selection import train_test_split\n",
    "\n",
    "\n",
    "def split_data(df, test_size=.2, validate_size=.2, stratify_col=None, random_state=None):\n",
    "    '''\n",
    "    take in a DataFrame and return train, validate, and test DataFrames;.\n",
    "    default size \n",
    "    return train, validate, test DataFrames.\n",
    "    '''\n",
    "    # no stratification\n",
    "    if stratify_col == None:\n",
    "        # split test data\n",
    "        train_validate, test = train_test_split(df, test_size=test_size, random_state=random_state)\n",
    "        # split validate data\n",
    "        train, validate = train_test_split(train_validate, test_size=validate_size/(1-test_size), random_state=random_state)\n",
    "    # stratify split\n",
    "    else:\n",
    "        # split test data\n",
    "        train_validate, test = train_test_split(df, test_size=test_size, random_state=random_state,\n",
    "                                                stratify = df[stratify_col])\n",
    "        # split validate data\n",
    "        train, validate = train_test_split(train_validate, test_size=validate_size/(1-test_size),\n",
    "                                           random_state=random_state, stratify=train_validate[stratify_col])       \n",
    "    return train, validate, test\n",
    "\n",
    "# example clean\n",
    "def clean_data(df):\n",
    "    '''\n",
    "    This function will drop any duplicate observations, \n",
    "    drop ['deck', 'embarked', 'class', 'age'], fill missing embark_town with 'Southampton'\n",
    "    and create dummy vars from sex and embark_town. \n",
    "    '''\n",
    "    df = df.drop_duplicates()\n",
    "    df = df.drop(columns=['deck', 'embarked', 'class', 'age'])\n",
    "    df['embark_town'] = df.embark_town.fillna(value='Southampton')\n",
    "    dummy_df = pd.get_dummies(df[['sex', 'embark_town']], drop_first=True)\n",
    "    df = pd.concat([df, dummy_df], axis=1)\n",
    "    return df\n",
    "\n",
    "def impute_mode(train, validate, test):\n",
    "    '''\n",
    "    take in train, validate, and test DataFrames, impute mode for embark_town,\n",
    "    and return train, validate, and test DataFrames\n",
    "    '''\n",
    "    imputer = SimpleImputer(missing_values = None, strategy='most_frequent')\n",
    "    train[['embark_town']] = imputer.fit_transform(train[['embark_town']])\n",
    "    validate[['embark_town']] = imputer.transform(validate[['embark_town']])\n",
    "    test[['embark_town']] = imputer.transform(test[['embark_town']])\n",
    "    return train, validate, test"
   ]
  },
  {
   "cell_type": "markdown",
   "id": "8ba64572",
   "metadata": {},
   "source": [
    "### Tidy Data\n",
    "\n",
    "Goal:\n",
    "- data is tabular\n",
    "- one value per cell\n",
    "- each variable is a column\n",
    "- each observation is a row\n",
    "\n",
    "Reshaping data:\n",
    "- wide -> long data format (`df.melt(id_vars=[cols_to_not_melt], var_name, value_name)`)\n",
    "- long -> wide data format (`df.pivot(index, columns)`, `df.unstack()`, `df.pivot_table(values, index, columns)`)"
   ]
  },
  {
   "cell_type": "code",
   "execution_count": null,
   "id": "6121a4a0",
   "metadata": {},
   "outputs": [],
   "source": [
    "df['col'].str.split(':', expand=True)"
   ]
  },
  {
   "cell_type": "markdown",
   "id": "557cfe0a",
   "metadata": {},
   "source": [
    "### EDA"
   ]
  },
  {
   "cell_type": "markdown",
   "id": "062e564d",
   "metadata": {},
   "source": [
    "###### Univariate: categorical"
   ]
  },
  {
   "cell_type": "markdown",
   "id": "5af84055",
   "metadata": {},
   "source": [
    "count (bar) plots"
   ]
  },
  {
   "cell_type": "code",
   "execution_count": null,
   "id": "e16ae698",
   "metadata": {},
   "outputs": [],
   "source": [
    "# count (bar) plots\n",
    "for col in cat_cols:\n",
    "    print(col.upper())\n",
    "    print(train[col].value_counts())\n",
    "    print(train[col].value_counts(normalize=True))\n",
    "    sns.countplot(c=col, data=train)\n",
    "    plt.show()\n",
    "    print()"
   ]
  },
  {
   "cell_type": "markdown",
   "id": "088be57d",
   "metadata": {},
   "source": [
    "Summarize: Takeaways"
   ]
  },
  {
   "cell_type": "markdown",
   "id": "18f42f21",
   "metadata": {},
   "source": [
    "###### Univariate: numerical"
   ]
  },
  {
   "cell_type": "markdown",
   "id": "be2183ca",
   "metadata": {},
   "source": [
    "histograms"
   ]
  },
  {
   "cell_type": "code",
   "execution_count": null,
   "id": "f553ffdb",
   "metadata": {},
   "outputs": [],
   "source": [
    "for col in col_cat:\n",
    "    print(col.upper())\n",
    "    print(train[col].value_counts())\n",
    "    sns.histplot(x=col, data=train)\n",
    "    plt.show()\n",
    "    print()"
   ]
  },
  {
   "cell_type": "markdown",
   "id": "6dee4981",
   "metadata": {},
   "source": [
    "Summarize: Takeaways"
   ]
  },
  {
   "cell_type": "markdown",
   "id": "aa31a127",
   "metadata": {},
   "source": [
    "#### Bivariate\n",
    "\n",
    "- Hypothesize\n",
    "- Visualize\n",
    "- Analyze\n",
    "- Summarize"
   ]
  },
  {
   "cell_type": "markdown",
   "id": "b5056126",
   "metadata": {},
   "source": [
    "###### Bivariate: categorical - categorical"
   ]
  },
  {
   "cell_type": "markdown",
   "id": "126c6153",
   "metadata": {},
   "source": [
    "Hypothesize: Which categorical variables relate to the target?"
   ]
  },
  {
   "cell_type": "markdown",
   "id": "bdd18c1f",
   "metadata": {},
   "source": [
    "Visualize: Bar plot"
   ]
  },
  {
   "cell_type": "code",
   "execution_count": null,
   "id": "ed4fe8e9",
   "metadata": {},
   "outputs": [],
   "source": [
    "for col in cat_cols:\n",
    "    sns.barplot(data=train, x=col, y='target')\n",
    "    plt.show()"
   ]
  },
  {
   "cell_type": "markdown",
   "id": "596bc2bd",
   "metadata": {},
   "source": [
    "Summarize: Takeaways"
   ]
  },
  {
   "cell_type": "markdown",
   "id": "82919afe",
   "metadata": {},
   "source": [
    "Analyze (with stats):\n",
    "\n",
    "stats test: t-test or mannwhitney (`stats.mannwhitneyu()`)\n",
    "\n",
    "$H_0$\n",
    "\n",
    "$H_a$"
   ]
  },
  {
   "cell_type": "markdown",
   "id": "65c2c694",
   "metadata": {},
   "source": [
    "2 sample ttest between those that meet the target and those that don't"
   ]
  },
  {
   "cell_type": "code",
   "execution_count": null,
   "id": "b0abd9bd",
   "metadata": {},
   "outputs": [],
   "source": [
    "t_stat, p_value = stats.ttest_1samp(train_target1[col], train_target2[col])"
   ]
  },
  {
   "cell_type": "markdown",
   "id": "53fa0784",
   "metadata": {},
   "source": [
    "Summarize: Stat test conclusion"
   ]
  },
  {
   "cell_type": "markdown",
   "id": "78be3606",
   "metadata": {},
   "source": []
  },
  {
   "cell_type": "markdown",
   "id": "f7c209fe",
   "metadata": {},
   "source": [
    "###### Bivariate: continuous- categorical target"
   ]
  },
  {
   "cell_type": "markdown",
   "id": "67dbd2ad",
   "metadata": {},
   "source": [
    "Hypothesize: Which continuous variables relate to the target?"
   ]
  },
  {
   "cell_type": "markdown",
   "id": "6e92372f",
   "metadata": {},
   "source": [
    "Visualize: boxplot, swarmplot, violinplot, stripplot"
   ]
  },
  {
   "cell_type": "code",
   "execution_count": null,
   "id": "abc26b6b",
   "metadata": {},
   "outputs": [],
   "source": [
    "for col in cont_colst:\n",
    "    sns.boxplot(data=train, x='target', y=col)\n",
    "    plt.show()"
   ]
  },
  {
   "cell_type": "markdown",
   "id": "7d2f8319",
   "metadata": {},
   "source": [
    "Summarize: Takeaways"
   ]
  },
  {
   "cell_type": "markdown",
   "id": "cc0a2c51",
   "metadata": {},
   "source": [
    "#### Multivariate\n",
    "\n",
    "- Hypothesize\n",
    "- Visualize\n",
    "- Analyze (optional right now)\n",
    "- Summarize"
   ]
  },
  {
   "cell_type": "markdown",
   "id": "04c66e3a",
   "metadata": {},
   "source": [
    "###### Multivariate: categorical - categorical - categorical target"
   ]
  },
  {
   "cell_type": "markdown",
   "id": "7cd7ae85",
   "metadata": {},
   "source": [
    "Hypothesize: Do `cat` with `cat` relate to the target?"
   ]
  },
  {
   "cell_type": "markdown",
   "id": "9bd8fa0a",
   "metadata": {},
   "source": [
    "Visualize: hue bar plot"
   ]
  },
  {
   "cell_type": "code",
   "execution_count": null,
   "id": "3e453656",
   "metadata": {},
   "outputs": [],
   "source": [
    "for col in cat_cols:\n",
    "    sns.barplot(data=train, x=col1, y='target', hue=col2)\n",
    "    plt.show()"
   ]
  },
  {
   "cell_type": "markdown",
   "id": "8b02064f",
   "metadata": {},
   "source": [
    "Summarize: Takeaways"
   ]
  },
  {
   "cell_type": "markdown",
   "id": "eda7d0a7",
   "metadata": {},
   "source": [
    "###### Explore Conclusions: Summarize all summaries"
   ]
  },
  {
   "cell_type": "markdown",
   "id": "5a330b06",
   "metadata": {},
   "source": []
  },
  {
   "cell_type": "code",
   "execution_count": null,
   "id": "ba21dce6",
   "metadata": {},
   "outputs": [],
   "source": []
  },
  {
   "cell_type": "markdown",
   "id": "9d5706d6",
   "metadata": {},
   "source": [
    "### Evaluation\n",
    "\n",
    "[`sklearn.metrics`](https://scikit-learn.org/stable/modules/model_evaluation.html)\n",
    "\n",
    "Confusion Matrix\n",
    "\n",
    "|                 | Predicted Negative | Predicted Positive |      |\n",
    "|-----------------|-------------------|-------------------|-------------|\n",
    "| Actual Negative |       TN          |       FP          | **Precision**: TP/(ТР+FP) |\n",
    "| Actual Positive |       FN          |       TP          | NPV: TN/(TN+FN) |\n",
    "|    | **Recall**/Sensitivity: TP/(TP+FN) | Specificity: TN/(FP+TN)| **Accuracy** =(TP+TN) /(TP+FP+FN+TN)|\n",
    "\n",
    "\n",
    "\n",
    "TPR (recall): How many positive cases are declared postive $\\frac{TP}{TP+FN}$\n",
    "\n",
    "FPR (recall): How many negative cases are declared postive $\\frac{FP}{FP+TN}$\n",
    "\n",
    "TNR (recall): How many negative cases are declared negative $\\frac{TN}{FP+TN}$\n",
    "\n",
    "FNR (recall): How many positive cases are declared negative $\\frac{FN}{TP+FN}$\n"
   ]
  },
  {
   "cell_type": "code",
   "execution_count": null,
   "id": "6079df79",
   "metadata": {},
   "outputs": [],
   "source": [
    "from sklearn.metrics import confusion_matrix"
   ]
  },
  {
   "cell_type": "code",
   "execution_count": null,
   "id": "31fb9a7e",
   "metadata": {},
   "outputs": [],
   "source": [
    "c = confusion_matrix(df.actual, df.prediction,\n",
    "                 labels = ('no target', 'target'))\n",
    "c[0,0] # TN\n",
    "c[0,1] # FP\n",
    "c[1,0] # FN\n",
    "c[1,1] # TP"
   ]
  },
  {
   "cell_type": "code",
   "execution_count": null,
   "id": "251c65c8",
   "metadata": {},
   "outputs": [],
   "source": [
    "fpr, tpr, thresholds = metrics.roc_curve(y_test, y_pred_prob)\n",
    "\n",
    "plt.plot(fpr, tpr)\n",
    "plt.xlim([0.0, 1.0])\n",
    "plt.ylim([0.0, 1.0])\n",
    "plt.rcParams['font.size'] = 12\n",
    "plt.title('ROC curve for diabetes classifier')\n",
    "plt.xlabel('False Positive Rate (1 - Specificity)')\n",
    "plt.ylabel('True Positive Rate (Sensitivity)')\n",
    "plt.grid(True)"
   ]
  },
  {
   "cell_type": "markdown",
   "id": "1d82b942",
   "metadata": {},
   "source": [
    "Accuracy: percentage of correct predictions\n",
    "\n",
    "Precision: percentage of postive predictions that are correct\n",
    "\n",
    "Recall: percentage of positive cases that are predicted\n",
    "\n",
    "F1 Score: harmonic mean of precision and recall\n",
    "\n",
    "Area Under ROC curve (AUC): A way to measure overall model performance for models that predict not just a class, but a probability as well"
   ]
  },
  {
   "cell_type": "markdown",
   "id": "8559a465",
   "metadata": {},
   "source": [
    "### Modeling"
   ]
  },
  {
   "cell_type": "markdown",
   "id": "1f0faf66",
   "metadata": {},
   "source": [
    "##### Baseline (Dummy) Model"
   ]
  },
  {
   "cell_type": "code",
   "execution_count": null,
   "id": "b9c2522f",
   "metadata": {},
   "outputs": [],
   "source": [
    "strategies = [\"stratified\", \"most_frequent\", \"prior\", \"uniform\"]\n",
    "for strategy in strategies:\n",
    "    dummy_classifier = DummyClassifier(strategy=strategy)\n",
    "    dummy_classifier.fit(X_train, y_train)\n",
    "    y_pred = dummy_classifier.predict(X_test)\n",
    "    accuracy = accuracy_score(y_test, y_pred)\n",
    "    print(f\"Strategy: {strategy}, Accuracy: {accuracy}\")"
   ]
  },
  {
   "cell_type": "markdown",
   "id": "ffb9ae46",
   "metadata": {},
   "source": [
    "##### Logistic Regression"
   ]
  },
  {
   "cell_type": "markdown",
   "id": "1433d107",
   "metadata": {},
   "source": [
    "##### KNN"
   ]
  },
  {
   "cell_type": "code",
   "execution_count": null,
   "id": "60d8289e",
   "metadata": {},
   "outputs": [],
   "source": [
    "import pandas as pd\n",
    "from sklearn.neighbors import KNeighborsClassifier\n",
    "from sklearn import metrics"
   ]
  },
  {
   "cell_type": "markdown",
   "id": "6ca1897c",
   "metadata": {},
   "source": [
    "Make knn object"
   ]
  },
  {
   "cell_type": "code",
   "execution_count": null,
   "id": "937caa97",
   "metadata": {
    "scrolled": true
   },
   "outputs": [],
   "source": [
    "knn = KNeighborsClassifier(n_neighbors=1)"
   ]
  },
  {
   "cell_type": "markdown",
   "id": "6bd90b7b",
   "metadata": {},
   "source": [
    "Fit the object to the training data"
   ]
  },
  {
   "cell_type": "code",
   "execution_count": null,
   "id": "7cc710a6",
   "metadata": {},
   "outputs": [],
   "source": [
    "knn.fit(X_train, y_train)"
   ]
  },
  {
   "cell_type": "markdown",
   "id": "6481751d",
   "metadata": {},
   "source": [
    "Make predictions"
   ]
  },
  {
   "cell_type": "code",
   "execution_count": null,
   "id": "98588135",
   "metadata": {},
   "outputs": [],
   "source": [
    "y_pred = knn1.predict(X_test)"
   ]
  },
  {
   "cell_type": "markdown",
   "id": "3d886f3d",
   "metadata": {},
   "source": [
    "Estimate probability\n",
    "\n",
    "- Estimate the probability of each target, using the training data."
   ]
  },
  {
   "cell_type": "code",
   "execution_count": null,
   "id": "6f92eba0",
   "metadata": {},
   "outputs": [],
   "source": [
    "y_pred_proba = knn.predict_proba(X_train)"
   ]
  },
  {
   "cell_type": "markdown",
   "id": "9546f2b1",
   "metadata": {},
   "source": [
    "Evaluate "
   ]
  },
  {
   "cell_type": "code",
   "execution_count": null,
   "id": "59436a3c",
   "metadata": {},
   "outputs": [],
   "source": [
    "metrics = classification_report(y_train, y_pred, labels=labels, zero_division=0)"
   ]
  },
  {
   "cell_type": "markdown",
   "id": "822e61fc",
   "metadata": {},
   "source": [
    "Visualize Confusion Matrix"
   ]
  },
  {
   "cell_type": "code",
   "execution_count": null,
   "id": "7183b3ae",
   "metadata": {},
   "outputs": [],
   "source": [
    "y_pred = clf.predict(X_validate)\n",
    "cm = confusion_matrix(y_test, y_pred, labels=clf.classes_)\n",
    "disp = ConfusionMatrixDisplay(confusion_matrix=cm, display_labels=clf.classes_)\n",
    "disp.plot()\n",
    "\n",
    "ConfusionMatrixDisplay.from_estimator(knn, X_validate, y_validate)\n",
    "\n",
    "ConfusionMatrixDisplay.from_predictions(y_validate, y_pred)\n"
   ]
  },
  {
   "cell_type": "markdown",
   "id": "37747bdd",
   "metadata": {},
   "source": [
    "or"
   ]
  },
  {
   "cell_type": "code",
   "execution_count": null,
   "id": "f45e9397",
   "metadata": {},
   "outputs": [],
   "source": [
    "cm = confusion_matrix(y_train, y_pred1)\n",
    "sns.heatmap(cm, annot=True)\n",
    "ax.set_xticklabels(['']+labels)\n",
    "ax.set_yticklabels(['']+labels)\n",
    "plt.xlabel('Predicted')\n",
    "plt.xlabel('Actual')"
   ]
  },
  {
   "cell_type": "markdown",
   "id": "25e57534",
   "metadata": {},
   "source": [
    "Find best k"
   ]
  },
  {
   "cell_type": "code",
   "execution_count": null,
   "id": "36e0367b",
   "metadata": {},
   "outputs": [],
   "source": [
    "model_set = []\n",
    "model_accuracies = {}\n",
    "for k in range(1,10):\n",
    "    # Make object\n",
    "    knn = KNeighborsClassifier(n_neighbors=i)\n",
    "    # Fit the object\n",
    "    knn.fit(X_train, y_train)\n",
    "    \n",
    "    model_set.append(knn)\n",
    "    model_accuracies[f'{i}_neighbors'] = {'train_score': round(knn.score(X_train, y_train), 2),\n",
    "                                          'validate_score':round(knn.score(X_validate, y_validate), 2) }\n",
    "\n",
    "pd.DataFrame(model_accuracies).T"
   ]
  },
  {
   "cell_type": "markdown",
   "id": "b827d674",
   "metadata": {},
   "source": [
    "or"
   ]
  },
  {
   "cell_type": "code",
   "execution_count": null,
   "id": "68fd3a3b",
   "metadata": {},
   "outputs": [],
   "source": [
    "metrics = []\n",
    "\n",
    "for k in range(1, 21):\n",
    "    # Make KNN classifier \n",
    "    knn = KNeighborsClassifier(n_neighbors=k)\n",
    "    \n",
    "    # Fit KNN classifier\n",
    "    knn.fit(X_train, y_train)\n",
    "    \n",
    "    # Use KNN classifier\n",
    "    train_score = knn.score(X_train, y_train)\n",
    "    validate_score = knn.score(X_validate, y_validate)\n",
    "    \n",
    "    output = {\n",
    "        'k': k,\n",
    "        'train_score': train_score,\n",
    "        'validate_score': validate_score\n",
    "    }\n",
    "    \n",
    "    metric.append(output)\n",
    "    \n",
    "\n",
    "pd.DataFrame(output)"
   ]
  },
  {
   "cell_type": "markdown",
   "id": "9a5783f2",
   "metadata": {},
   "source": [
    "##### Decision Trees\n",
    "\n",
    "Pros:\n",
    "- requires little data prep\n",
    "- no need to encode\n",
    "\n",
    "Cons:\n",
    "- can create complex trees that overfit\n",
    "\n",
    "Hyperparameters:\n",
    "\n",
    "- `criterion`: The function to measure the quality of a split. The default value is \"gini\", but you can also use \"entropy\" to measure information gain.\n",
    "- `max_depth`: The maximum depth of the decision tree. It controls the maximum number of levels in the tree. Use a lower value to avoid overfitting.\n",
    "- `min_samples_split`: The minimum number of samples required to split an internal node. It prevents further splitting of nodes with a small number of samples.\n",
    "- `min_samples_leaf`: The minimum number of samples required to be at a leaf node. It controls the minimum size of the leaf nodes.\n",
    "- `max_features`: The number of features to consider when looking for the best split. It can be an integer value or a float value between 0 and 1 to represent a percentage of features.\n",
    "- `class_weight`: Weights associated with classes. You can use it to balance the class distribution if it is skewed."
   ]
  },
  {
   "cell_type": "markdown",
   "id": "b7c41795",
   "metadata": {},
   "source": [
    "##### Random Forest"
   ]
  },
  {
   "cell_type": "markdown",
   "id": "7c9a909a",
   "metadata": {},
   "source": [
    "##### Logistic Regression\n",
    "\n",
    "Hyperparametes:\n",
    "- `penalty`: \n",
    "    - `L2`(default)\n",
    "    - `L1` Lasso, use when feature selection is important\n",
    "- `C`: Inverse of regularization strength\n",
    "    - Use .001, .01, 1, 10, 100, 1000\n",
    "    \n",
    "    - The lower the C, the higher regularization, discourages more complex model. More simplicity, less chance of overfit\n",
    "- `solver`:\n",
    "    - `lbfgs`\n",
    "    - `liblinear`, best for smaller datasets, needs `random_state`\n",
    "    \n",
    "Interpreting model coefficients"
   ]
  },
  {
   "cell_type": "markdown",
   "id": "14536b95",
   "metadata": {},
   "source": [
    "### User-Defined Functions"
   ]
  },
  {
   "cell_type": "markdown",
   "id": "ae73abb3",
   "metadata": {},
   "source": [
    "### Storytelling\n",
    "\n",
    "- clarify story with 3 questions\n",
    "    - Who?\n",
    "    - What?\n",
    "    - How?\n",
    "    \n",
    "- For Visuals:\n",
    "    - Note First things audience will see\n",
    "        - Do these things match the charts main idea\n",
    "    - Is anything misleading?\n",
    "        - scale, y-axis, etc.\n",
    "    - Is anything missing?\n",
    "    - Any improvements?\n",
    "    - Are colors appropriate?\n",
    "    - Annotations needed or helpful?\n",
    "    - Useful & meaningful titles that guide us to the key message\n",
    "    - Axes, labels & variables are names that mean something to the audience.\n",
    "    - Font size/type appropriate for setting and audience\n",
    "    - Minimal extraneous elements, eye travel is limited\n",
    "    - Chart types are appropriate for the purpose and data type\n",
    "    - Charts are ethical in their construction and use\n",
    "    \n",
    "- Creating the Data Story\n",
    "    - DRAW it out:\n",
    "        - Label 10-15 points:\n",
    "            - Setting: Audience, Location, Display, Time Available\n",
    "            - Goal of audience\n",
    "            - Deliverables\n",
    "            - Big Idea: Gist / Thesis / Single Unifying Idea\n",
    "            - Title/Agenda: From big idea, create title and subtitle\n",
    "            - Executive Summary: If they only saw one slide, include big idea, top findings/takeaways, and recommendation.\n",
    "            - Findings: Title of key takeaway, include visual\n",
    "            - Recommendation, Conclusion: What should audience do with this info? Next Steps for me. How to reach me.\n",
    "        - Slide Structure:\n",
    "            - Title: title, names, date\n",
    "            - Agenda: Summary of what's to be presented\n",
    "            - Executive Summary:\n",
    "                - Goal, Big Idea, Key Findings, Recommendations\n",
    "            - Findings that support big idea\n",
    "            - Recommendations for audience, and expected results\n",
    "            - Conclusion: give breif summary and leave audience with the biggest takeaway\n",
    "    - TALK it through\n",
    "        1. Talk about insights with partner\n",
    "        2. Note keywords to identify good chart\n",
    "        3. Find simplest chart that conveys my message\n",
    "        4. Draw/Brainstorm chart\n",
    "        5. Repeat for each desired insight\n",
    "    - DIGITIZE drawings\n",
    "        - Create charts\n",
    "        - Have appropriate labels and variable names\n",
    "        - Numeric labels should be appropriate\n",
    "        - Title indicates key takeaway\n",
    "    - REFINE slides\n",
    "        - Adjust what's around the chart\n",
    "        - Simplify the chart\n",
    "        - Add clarity to the chart\n",
    "        - Ensure consistency across charts\n",
    "        - Make idea stand out\n",
    "    - PRACTICE presentation\n",
    "        - Write script\n",
    "        - Speak script\n",
    "        - Adjust script to match my language\n",
    "        - Repeat until it feels natural\n",
    "        - Practice until I don't need script\n",
    "        - Reduce filler words, Reduce content if presentation is too long.\n"
   ]
  },
  {
   "cell_type": "markdown",
   "id": "b78f607e",
   "metadata": {},
   "source": [
    "Viz 1"
   ]
  },
  {
   "cell_type": "code",
   "execution_count": 39,
   "id": "b5cc43d9",
   "metadata": {},
   "outputs": [
    {
     "data": {
      "text/html": [
       "<div>\n",
       "<style scoped>\n",
       "    .dataframe tbody tr th:only-of-type {\n",
       "        vertical-align: middle;\n",
       "    }\n",
       "\n",
       "    .dataframe tbody tr th {\n",
       "        vertical-align: top;\n",
       "    }\n",
       "\n",
       "    .dataframe thead th {\n",
       "        text-align: right;\n",
       "    }\n",
       "</style>\n",
       "<table border=\"1\" class=\"dataframe\">\n",
       "  <thead>\n",
       "    <tr style=\"text-align: right;\">\n",
       "      <th></th>\n",
       "      <th>survived</th>\n",
       "      <th>pclass</th>\n",
       "      <th>sex</th>\n",
       "      <th>age</th>\n",
       "      <th>sibsp</th>\n",
       "      <th>parch</th>\n",
       "      <th>fare</th>\n",
       "      <th>embarked</th>\n",
       "      <th>class</th>\n",
       "      <th>who</th>\n",
       "      <th>adult_male</th>\n",
       "      <th>deck</th>\n",
       "      <th>embark_town</th>\n",
       "      <th>alive</th>\n",
       "      <th>alone</th>\n",
       "      <th>sex+survived</th>\n",
       "    </tr>\n",
       "  </thead>\n",
       "  <tbody>\n",
       "    <tr>\n",
       "      <th>0</th>\n",
       "      <td>0</td>\n",
       "      <td>3</td>\n",
       "      <td>male</td>\n",
       "      <td>22.0</td>\n",
       "      <td>1</td>\n",
       "      <td>0</td>\n",
       "      <td>7.2500</td>\n",
       "      <td>S</td>\n",
       "      <td>Third</td>\n",
       "      <td>man</td>\n",
       "      <td>True</td>\n",
       "      <td>NaN</td>\n",
       "      <td>Southampton</td>\n",
       "      <td>no</td>\n",
       "      <td>False</td>\n",
       "      <td>male_perished</td>\n",
       "    </tr>\n",
       "    <tr>\n",
       "      <th>1</th>\n",
       "      <td>1</td>\n",
       "      <td>1</td>\n",
       "      <td>female</td>\n",
       "      <td>38.0</td>\n",
       "      <td>1</td>\n",
       "      <td>0</td>\n",
       "      <td>71.2833</td>\n",
       "      <td>C</td>\n",
       "      <td>First</td>\n",
       "      <td>woman</td>\n",
       "      <td>False</td>\n",
       "      <td>C</td>\n",
       "      <td>Cherbourg</td>\n",
       "      <td>yes</td>\n",
       "      <td>False</td>\n",
       "      <td>female_survived</td>\n",
       "    </tr>\n",
       "    <tr>\n",
       "      <th>2</th>\n",
       "      <td>1</td>\n",
       "      <td>3</td>\n",
       "      <td>female</td>\n",
       "      <td>26.0</td>\n",
       "      <td>0</td>\n",
       "      <td>0</td>\n",
       "      <td>7.9250</td>\n",
       "      <td>S</td>\n",
       "      <td>Third</td>\n",
       "      <td>woman</td>\n",
       "      <td>False</td>\n",
       "      <td>NaN</td>\n",
       "      <td>Southampton</td>\n",
       "      <td>yes</td>\n",
       "      <td>True</td>\n",
       "      <td>female_survived</td>\n",
       "    </tr>\n",
       "    <tr>\n",
       "      <th>3</th>\n",
       "      <td>1</td>\n",
       "      <td>1</td>\n",
       "      <td>female</td>\n",
       "      <td>35.0</td>\n",
       "      <td>1</td>\n",
       "      <td>0</td>\n",
       "      <td>53.1000</td>\n",
       "      <td>S</td>\n",
       "      <td>First</td>\n",
       "      <td>woman</td>\n",
       "      <td>False</td>\n",
       "      <td>C</td>\n",
       "      <td>Southampton</td>\n",
       "      <td>yes</td>\n",
       "      <td>False</td>\n",
       "      <td>female_survived</td>\n",
       "    </tr>\n",
       "    <tr>\n",
       "      <th>4</th>\n",
       "      <td>0</td>\n",
       "      <td>3</td>\n",
       "      <td>male</td>\n",
       "      <td>35.0</td>\n",
       "      <td>0</td>\n",
       "      <td>0</td>\n",
       "      <td>8.0500</td>\n",
       "      <td>S</td>\n",
       "      <td>Third</td>\n",
       "      <td>man</td>\n",
       "      <td>True</td>\n",
       "      <td>NaN</td>\n",
       "      <td>Southampton</td>\n",
       "      <td>no</td>\n",
       "      <td>True</td>\n",
       "      <td>male_perished</td>\n",
       "    </tr>\n",
       "    <tr>\n",
       "      <th>...</th>\n",
       "      <td>...</td>\n",
       "      <td>...</td>\n",
       "      <td>...</td>\n",
       "      <td>...</td>\n",
       "      <td>...</td>\n",
       "      <td>...</td>\n",
       "      <td>...</td>\n",
       "      <td>...</td>\n",
       "      <td>...</td>\n",
       "      <td>...</td>\n",
       "      <td>...</td>\n",
       "      <td>...</td>\n",
       "      <td>...</td>\n",
       "      <td>...</td>\n",
       "      <td>...</td>\n",
       "      <td>...</td>\n",
       "    </tr>\n",
       "    <tr>\n",
       "      <th>886</th>\n",
       "      <td>0</td>\n",
       "      <td>2</td>\n",
       "      <td>male</td>\n",
       "      <td>27.0</td>\n",
       "      <td>0</td>\n",
       "      <td>0</td>\n",
       "      <td>13.0000</td>\n",
       "      <td>S</td>\n",
       "      <td>Second</td>\n",
       "      <td>man</td>\n",
       "      <td>True</td>\n",
       "      <td>NaN</td>\n",
       "      <td>Southampton</td>\n",
       "      <td>no</td>\n",
       "      <td>True</td>\n",
       "      <td>male_perished</td>\n",
       "    </tr>\n",
       "    <tr>\n",
       "      <th>887</th>\n",
       "      <td>1</td>\n",
       "      <td>1</td>\n",
       "      <td>female</td>\n",
       "      <td>19.0</td>\n",
       "      <td>0</td>\n",
       "      <td>0</td>\n",
       "      <td>30.0000</td>\n",
       "      <td>S</td>\n",
       "      <td>First</td>\n",
       "      <td>woman</td>\n",
       "      <td>False</td>\n",
       "      <td>B</td>\n",
       "      <td>Southampton</td>\n",
       "      <td>yes</td>\n",
       "      <td>True</td>\n",
       "      <td>female_survived</td>\n",
       "    </tr>\n",
       "    <tr>\n",
       "      <th>888</th>\n",
       "      <td>0</td>\n",
       "      <td>3</td>\n",
       "      <td>female</td>\n",
       "      <td>NaN</td>\n",
       "      <td>1</td>\n",
       "      <td>2</td>\n",
       "      <td>23.4500</td>\n",
       "      <td>S</td>\n",
       "      <td>Third</td>\n",
       "      <td>woman</td>\n",
       "      <td>False</td>\n",
       "      <td>NaN</td>\n",
       "      <td>Southampton</td>\n",
       "      <td>no</td>\n",
       "      <td>False</td>\n",
       "      <td>female_perished</td>\n",
       "    </tr>\n",
       "    <tr>\n",
       "      <th>889</th>\n",
       "      <td>1</td>\n",
       "      <td>1</td>\n",
       "      <td>male</td>\n",
       "      <td>26.0</td>\n",
       "      <td>0</td>\n",
       "      <td>0</td>\n",
       "      <td>30.0000</td>\n",
       "      <td>C</td>\n",
       "      <td>First</td>\n",
       "      <td>man</td>\n",
       "      <td>True</td>\n",
       "      <td>C</td>\n",
       "      <td>Cherbourg</td>\n",
       "      <td>yes</td>\n",
       "      <td>True</td>\n",
       "      <td>male_survived</td>\n",
       "    </tr>\n",
       "    <tr>\n",
       "      <th>890</th>\n",
       "      <td>0</td>\n",
       "      <td>3</td>\n",
       "      <td>male</td>\n",
       "      <td>32.0</td>\n",
       "      <td>0</td>\n",
       "      <td>0</td>\n",
       "      <td>7.7500</td>\n",
       "      <td>Q</td>\n",
       "      <td>Third</td>\n",
       "      <td>man</td>\n",
       "      <td>True</td>\n",
       "      <td>NaN</td>\n",
       "      <td>Queenstown</td>\n",
       "      <td>no</td>\n",
       "      <td>True</td>\n",
       "      <td>male_perished</td>\n",
       "    </tr>\n",
       "  </tbody>\n",
       "</table>\n",
       "<p>891 rows × 16 columns</p>\n",
       "</div>"
      ],
      "text/plain": [
       "     survived  pclass     sex   age  sibsp  parch     fare embarked   class  \\\n",
       "0           0       3    male  22.0      1      0   7.2500        S   Third   \n",
       "1           1       1  female  38.0      1      0  71.2833        C   First   \n",
       "2           1       3  female  26.0      0      0   7.9250        S   Third   \n",
       "3           1       1  female  35.0      1      0  53.1000        S   First   \n",
       "4           0       3    male  35.0      0      0   8.0500        S   Third   \n",
       "..        ...     ...     ...   ...    ...    ...      ...      ...     ...   \n",
       "886         0       2    male  27.0      0      0  13.0000        S  Second   \n",
       "887         1       1  female  19.0      0      0  30.0000        S   First   \n",
       "888         0       3  female   NaN      1      2  23.4500        S   Third   \n",
       "889         1       1    male  26.0      0      0  30.0000        C   First   \n",
       "890         0       3    male  32.0      0      0   7.7500        Q   Third   \n",
       "\n",
       "       who  adult_male deck  embark_town alive  alone     sex+survived  \n",
       "0      man        True  NaN  Southampton    no  False    male_perished  \n",
       "1    woman       False    C    Cherbourg   yes  False  female_survived  \n",
       "2    woman       False  NaN  Southampton   yes   True  female_survived  \n",
       "3    woman       False    C  Southampton   yes  False  female_survived  \n",
       "4      man        True  NaN  Southampton    no   True    male_perished  \n",
       "..     ...         ...  ...          ...   ...    ...              ...  \n",
       "886    man        True  NaN  Southampton    no   True    male_perished  \n",
       "887  woman       False    B  Southampton   yes   True  female_survived  \n",
       "888  woman       False  NaN  Southampton    no  False  female_perished  \n",
       "889    man        True    C    Cherbourg   yes   True    male_survived  \n",
       "890    man        True  NaN   Queenstown    no   True    male_perished  \n",
       "\n",
       "[891 rows x 16 columns]"
      ]
     },
     "execution_count": 39,
     "metadata": {},
     "output_type": "execute_result"
    }
   ],
   "source": [
    "titanic = sns.load_dataset('titanic')\n",
    "# titanic.groupby(['sex','survived'])['sex'].count()\n",
    "titanic['sex+survived'] = titanic['sex'] + titanic['survived'].replace({1:'_survived',\n",
    "                                                                        0:'_perished'})\n",
    "titanic"
   ]
  },
  {
   "cell_type": "code",
   "execution_count": null,
   "id": "739c1a8d",
   "metadata": {},
   "outputs": [],
   "source": []
  },
  {
   "cell_type": "code",
   "execution_count": 49,
   "id": "74b9c1af",
   "metadata": {},
   "outputs": [],
   "source": [
    "data = titanic.groupby('sex+survived')['survived'].count()"
   ]
  },
  {
   "cell_type": "code",
   "execution_count": 41,
   "id": "6949e0f3",
   "metadata": {},
   "outputs": [
    {
     "data": {
      "text/plain": [
       "([<matplotlib.patches.Wedge at 0x7fe6e5a2dfc0>,\n",
       "  <matplotlib.patches.Wedge at 0x7fe6e5a2ded0>,\n",
       "  <matplotlib.patches.Wedge at 0x7fe6e5a2eaa0>,\n",
       "  <matplotlib.patches.Wedge at 0x7fe6e5a2efe0>],\n",
       " [Text(1.0554422683381766, 0.30990582150899426, 'female_perished'),\n",
       "  Text(0.1948313451685962, 1.0826083072560433, 'female_survived'),\n",
       "  Text(-0.8249425748237365, -0.727646719392855, 'male_perished'),\n",
       "  Text(1.0197569014785908, -0.4124267957914275, 'male_survived')],\n",
       " [Text(0.5756957827299144, 0.16903953900490593, '9%'),\n",
       "  Text(0.10627164281923428, 0.5905136221396599, '26%'),\n",
       "  Text(-0.44996867717658345, -0.39689821057792085, '53%'),\n",
       "  Text(0.5562310371701403, -0.22496007043168773, '12%')])"
      ]
     },
     "execution_count": 41,
     "metadata": {},
     "output_type": "execute_result"
    },
    {
     "data": {
      "image/png": "[encoded data removed]",
      "text/plain": [
       "<Figure size 640x480 with 1 Axes>"
      ]
     },
     "metadata": {},
     "output_type": "display_data"
    }
   ],
   "source": [
    "colors = sns.color_palette('bright')[0:5]\n",
    "\n",
    "plt.pie(x=data, \n",
    "        labels = data.index,\n",
    "        colors = colors, autopct='%.0f%%')"
   ]
  },
  {
   "cell_type": "code",
   "execution_count": 164,
   "id": "66e498aa",
   "metadata": {},
   "outputs": [],
   "source": [
    "data = titanic.groupby('sex+survived')['survived'].value_counts()\n",
    "data = data / data.sum()\n",
    "data = data.sort_values(ascending=False)"
   ]
  },
  {
   "cell_type": "code",
   "execution_count": 165,
   "id": "524f894c",
   "metadata": {},
   "outputs": [],
   "source": [
    "labels = [' '.join(x[0].split('_')) for x in data.index[:]]"
   ]
  },
  {
   "cell_type": "code",
   "execution_count": 245,
   "id": "193bbed5",
   "metadata": {},
   "outputs": [
    {
     "name": "stdout",
     "output_type": "stream",
     "text": [
      "Rectangle(xy=(-0.4, 0), width=0.8, height=0.188908, angle=0)\n",
      "Rectangle(xy=(0.6, 0), width=0.8, height=0.742038, angle=0)\n"
     ]
    },
    {
     "data": {
      "text/plain": [
       "Text(0.5, 1.0, 'Titanic Survival Rate by Gender')"
      ]
     },
     "execution_count": 245,
     "metadata": {},
     "output_type": "execute_result"
    },
    {
     "data": {
      "image/png": "[encoded data removed]",
      "text/plain": [
       "<Figure size 640x480 with 1 Axes>"
      ]
     },
     "metadata": {},
     "output_type": "display_data"
    }
   ],
   "source": [
    "sns.barplot(data=titanic, x='sex', y='survived', errorbar=None)\n",
    "ax = plt.gca()\n",
    "for p in ax.patches:\n",
    "    print(p)\n",
    "    ax.annotate(f'{int(p.get_height()*100)}%', (p.get_x() + p.get_width() / 2, p.get_height()),\n",
    "                ha='center', va='bottom')\n",
    "plt.yticks(np.arange(0,1.1, .10), labels=[str(int(x*100))+'%' for x in np.arange(0,1.1, .10)])\n",
    "plt.ylabel('Survival Rate')\n",
    "plt.title('Titanic Survival Rate by Gender')\n"
   ]
  },
  {
   "cell_type": "markdown",
   "id": "2494ceb0",
   "metadata": {},
   "source": [
    "### Viz2"
   ]
  },
  {
   "cell_type": "code",
   "execution_count": 150,
   "id": "62a77626",
   "metadata": {},
   "outputs": [
    {
     "data": {
      "text/html": [
       "<div>\n",
       "<style scoped>\n",
       "    .dataframe tbody tr th:only-of-type {\n",
       "        vertical-align: middle;\n",
       "    }\n",
       "\n",
       "    .dataframe tbody tr th {\n",
       "        vertical-align: top;\n",
       "    }\n",
       "\n",
       "    .dataframe thead th {\n",
       "        text-align: right;\n",
       "    }\n",
       "</style>\n",
       "<table border=\"1\" class=\"dataframe\">\n",
       "  <thead>\n",
       "    <tr style=\"text-align: right;\">\n",
       "      <th></th>\n",
       "      <th>Year</th>\n",
       "      <th>Percentage</th>\n",
       "    </tr>\n",
       "  </thead>\n",
       "  <tbody>\n",
       "    <tr>\n",
       "      <th>0</th>\n",
       "      <td>1972</td>\n",
       "      <td>72</td>\n",
       "    </tr>\n",
       "    <tr>\n",
       "      <th>1</th>\n",
       "      <td>1973</td>\n",
       "      <td>71</td>\n",
       "    </tr>\n",
       "    <tr>\n",
       "      <th>2</th>\n",
       "      <td>1974</td>\n",
       "      <td>67</td>\n",
       "    </tr>\n",
       "    <tr>\n",
       "      <th>3</th>\n",
       "      <td>1975</td>\n",
       "      <td>66</td>\n",
       "    </tr>\n",
       "    <tr>\n",
       "      <th>4</th>\n",
       "      <td>1976</td>\n",
       "      <td>67</td>\n",
       "    </tr>\n",
       "  </tbody>\n",
       "</table>\n",
       "</div>"
      ],
      "text/plain": [
       "   Year  Percentage\n",
       "0  1972          72\n",
       "1  1973          71\n",
       "2  1974          67\n",
       "3  1975          66\n",
       "4  1976          67"
      ]
     },
     "execution_count": 150,
     "metadata": {},
     "output_type": "execute_result"
    }
   ],
   "source": [
    "percents = [72, 71, 67, 66, 67]\n",
    "years = list(range(1972, 1977))\n",
    "\n",
    "df = pd.DataFrame({'Year': years, 'Percentage': percents})\n",
    "df"
   ]
  },
  {
   "cell_type": "code",
   "execution_count": 244,
   "id": "e5637465",
   "metadata": {
    "scrolled": false
   },
   "outputs": [
    {
     "data": {
      "text/plain": [
       "Text(0, 0.5, 'Percent\\nof Students\\n25 and Under')"
      ]
     },
     "execution_count": 244,
     "metadata": {},
     "output_type": "execute_result"
    },
    {
     "data": {
      "image/png": "[encoded data removed]",
      "text/plain": [
       "<Figure size 640x480 with 1 Axes>"
      ]
     },
     "metadata": {},
     "output_type": "display_data"
    }
   ],
   "source": [
    "plt.plot(years, percents, marker='s', linestyle='-')\n",
    "\n",
    "for i in range(len(years)):\n",
    "    plt.annotate(f'{percents[i]}%', (years[i], percents[i]),\n",
    "                 xytext=(0, 10), textcoords='offset points',\n",
    "                 ha='center', va='bottom')\n",
    "\n",
    "plt.xticks(years)\n",
    "plt.yticks(range(0,101, 10), [str(x)+'%' for x in range(0,101, 10)])\n",
    "plt.title('Age Structure of College Enrollments')\n",
    "plt.ylabel('Percent\\nof Students\\n25 and Under', rotation=0,\n",
    "           labelpad=30)"
   ]
  },
  {
   "cell_type": "markdown",
   "id": "85960d68",
   "metadata": {},
   "source": [
    "### Viz3"
   ]
  },
  {
   "cell_type": "code",
   "execution_count": 130,
   "id": "ca35cc14",
   "metadata": {},
   "outputs": [],
   "source": [
    "labels = ['Starbucks','Taco Bell','Pizza Hut','KFC',\n",
    "          'Wendy\\'s', 'Burger King', 'Afghanistan\\n (GDP)', 'McDonald\\'s']\n",
    "sales = [4.1, 4.3, 8, 8.2, 9.4, 11.3, 21, 41]\n",
    "\n",
    "df = pd.DataFrame({'Groups': labels, 'Revenue': sales})"
   ]
  },
  {
   "cell_type": "code",
   "execution_count": 197,
   "id": "a39d0af6",
   "metadata": {},
   "outputs": [
    {
     "data": {
      "text/plain": [
       "Text(0.5, 1.0, 'Revenue by Restaurant')"
      ]
     },
     "execution_count": 197,
     "metadata": {},
     "output_type": "execute_result"
    },
    {
     "data": {
      "image/png": "[encoded data removed]",
      "text/plain": [
       "<Figure size 640x480 with 1 Axes>"
      ]
     },
     "metadata": {},
     "output_type": "display_data"
    }
   ],
   "source": [
    "pal = sns.color_palette('Greens_d', 8)\n",
    "\n",
    "sns.barplot(data=df, x='Groups', y='Revenue', palette=pal)\n",
    "\n",
    "ax = plt.gca()\n",
    "for p in ax.patches:\n",
    "    ax.annotate(f'{p.get_height():.2f}', (p.get_x() + p.get_width() / 2, p.get_height()),\n",
    "                ha='center', va='bottom')\n",
    "plt.xticks(rotation=45)\n",
    "plt.ylabel('Revenue in Billions of Dollars')\n",
    "plt.title('Revenue by Restaurant')"
   ]
  },
  {
   "cell_type": "code",
   "execution_count": 249,
   "id": "8142996d",
   "metadata": {},
   "outputs": [
    {
     "data": {
      "image/png": "[encoded data removed]",
      "text/plain": [
       "<Figure size 640x480 with 1 Axes>"
      ]
     },
     "metadata": {},
     "output_type": "display_data"
    }
   ],
   "source": [
    "sns.set_style('white')\n",
    "labels = ['Starbucks','Taco Bell','Pizza Hut','KFC',\n",
    "          'Wendy\\'s', 'Burger King', 'McDonald\\'s']\n",
    "sales = [4.1, 4.3, 8, 8.2, 9.4, 11.3, 41]\n",
    "\n",
    "df = pd.DataFrame({'Groups': labels, 'Revenue': sales})\n",
    "\n",
    "pal = sns.color_palette('Greens_d', 7)\n",
    "\n",
    "sns.barplot(data=df, x='Groups', y='Revenue', palette=pal)\n",
    "plt.xticks(rotation=45)\n",
    "plt.yticks(range(0, 51, 5))\n",
    "plt.ylabel('Revenue in Billions of Dollars')\n",
    "plt.title('Revenue by Restaurant')\n",
    "\n",
    "ax = plt.gca()\n",
    "for p in ax.patches:\n",
    "    ax.annotate(f'\\$ {p.get_height()}B', (p.get_x() + p.get_width() / 2, p.get_height()),\n",
    "                ha='center', va='bottom')\n",
    "\n",
    "# # add line indicating estimate of all targets\n",
    "# plt.axhline(21, label='''Aghanistan's GDP''', color=(0.9, 0.5, 0.1))\n",
    "# plt.annotate('$ 21B', xy=(3, 21), ha='center', va='bottom')\n",
    "# # display the legend\n",
    "# plt.legend(loc='upper left', edgecolor='black')\n"
   ]
  },
  {
   "cell_type": "code",
   "execution_count": null,
   "id": "809835f1",
   "metadata": {},
   "outputs": [],
   "source": []
  }
 ],
 "metadata": {
  "kernelspec": {
   "display_name": "Python 3 (ipykernel)",
   "language": "python",
   "name": "python3"
  },
  "language_info": {
   "codemirror_mode": {
    "name": "ipython",
    "version": 3
   },
   "file_extension": ".py",
   "mimetype": "text/x-python",
   "name": "python",
   "nbconvert_exporter": "python",
   "pygments_lexer": "ipython3",
   "version": "3.10.9"
  },
  "varInspector": {
   "cols": {
    "lenName": 16,
    "lenType": 16,
    "lenVar": 40
   },
   "kernels_config": {
    "python": {
     "delete_cmd_postfix": "",
     "delete_cmd_prefix": "del ",
     "library": "var_list.py",
     "varRefreshCmd": "print(var_dic_list())"
    },
    "r": {
     "delete_cmd_postfix": ") ",
     "delete_cmd_prefix": "rm(",
     "library": "var_list.r",
     "varRefreshCmd": "cat(var_dic_list()) "
    }
   },
   "types_to_exclude": [
    "module",
    "function",
    "builtin_function_or_method",
    "instance",
    "_Feature"
   ],
   "window_display": false
  }
 },
 "nbformat": 4,
 "nbformat_minor": 5
}
